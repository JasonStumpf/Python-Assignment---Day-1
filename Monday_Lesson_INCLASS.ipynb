{
 "cells": [
  {
   "cell_type": "markdown",
   "metadata": {},
   "source": [
    "# Week 2 - Monday Lesson (variable assignment, loops, lists)"
   ]
  },
  {
   "cell_type": "markdown",
   "metadata": {},
   "source": [
    "## Tasks Today:\n",
    "\n",
    "1) Int & Float assignments <br>\n",
    " &nbsp;&nbsp;&nbsp;&nbsp; a) Assigning int <br>\n",
    " &nbsp;&nbsp;&nbsp;&nbsp; b) Assigning float <br>\n",
    " &nbsp;&nbsp;&nbsp;&nbsp; c) Performing Calculations on ints and floats <br>\n",
    " &nbsp;&nbsp;&nbsp;&nbsp;&nbsp;&nbsp;&nbsp;&nbsp; - Addition <br>\n",
    " &nbsp;&nbsp;&nbsp;&nbsp;&nbsp;&nbsp;&nbsp;&nbsp; - Subtraction <br>\n",
    " &nbsp;&nbsp;&nbsp;&nbsp;&nbsp;&nbsp;&nbsp;&nbsp; - Multiplication <br>\n",
    " &nbsp;&nbsp;&nbsp;&nbsp;&nbsp;&nbsp;&nbsp;&nbsp; - Division <br>\n",
    " &nbsp;&nbsp;&nbsp;&nbsp;&nbsp;&nbsp;&nbsp;&nbsp; - Floor Division <br>\n",
    " &nbsp;&nbsp;&nbsp;&nbsp;&nbsp;&nbsp;&nbsp;&nbsp; - Modulo <br>\n",
    " &nbsp;&nbsp;&nbsp;&nbsp;&nbsp;&nbsp;&nbsp;&nbsp; - Exponential <br>\n",
    "2) String Input-Output <br>\n",
    " &nbsp;&nbsp;&nbsp;&nbsp; a) String Assignment <br>\n",
    " &nbsp;&nbsp;&nbsp;&nbsp; b) print() <br>\n",
    " &nbsp;&nbsp;&nbsp;&nbsp; c) String Concatenation <br>\n",
    " &nbsp;&nbsp;&nbsp;&nbsp; d) Type Conversion <br>\n",
    " &nbsp;&nbsp;&nbsp;&nbsp; e) input() <br>\n",
    " &nbsp;&nbsp;&nbsp;&nbsp; f) format() <br>\n",
    " &nbsp;&nbsp;&nbsp;&nbsp; g) Old Way (python 2) <br>\n",
    "3) <b>In-Class Exercise #1</b> <br>\n",
    "4) If Statements <br>\n",
    " &nbsp;&nbsp;&nbsp;&nbsp; a) 'is' keyword <br>\n",
    " &nbsp;&nbsp;&nbsp;&nbsp; b) 'in' keyword <br>\n",
    " &nbsp;&nbsp;&nbsp;&nbsp; c) 'not in' keyword <br>\n",
    "5) <b>In-Class Exercise #2</b> <br>\n",
    "6) Elif Statements <br>\n",
    "7) Else Statements <br>\n",
    "8) <b>In-Class Exercise #3</b> <br>\n",
    "9) For Loops <br>\n",
    " &nbsp;&nbsp;&nbsp;&nbsp; a) Using 'in' keyword <br>\n",
    " &nbsp;&nbsp;&nbsp;&nbsp; b) Continue Statement <br>\n",
    " &nbsp;&nbsp;&nbsp;&nbsp; c) Break Statement <br>\n",
    " &nbsp;&nbsp;&nbsp;&nbsp; d) Pass Statement <br>\n",
    " &nbsp;&nbsp;&nbsp;&nbsp; e) Double For Loops <br>\n",
    "10) While Loops <br>\n",
    " &nbsp;&nbsp;&nbsp;&nbsp; a) Looping 'While True' <br>\n",
    " &nbsp;&nbsp;&nbsp;&nbsp; b) While and For Loops Used Together <br>\n",
    "11) Built-In Functions <br>\n",
    " &nbsp;&nbsp;&nbsp;&nbsp; a) range() <br>\n",
    " &nbsp;&nbsp;&nbsp;&nbsp; b) len() <br>\n",
    " &nbsp;&nbsp;&nbsp;&nbsp; c) help() <br>\n",
    " &nbsp;&nbsp;&nbsp;&nbsp; d) isinstance() <br>\n",
    " &nbsp;&nbsp;&nbsp;&nbsp; e) abs() <br>\n",
    "12) Try and Except <br>\n",
    "13) Lists <br>\n",
    " &nbsp;&nbsp;&nbsp;&nbsp; a) Declaring Lists <br>\n",
    " &nbsp;&nbsp;&nbsp;&nbsp; b) Indexing a List <br>\n",
    " &nbsp;&nbsp;&nbsp;&nbsp; c) .append() <br>\n",
    " &nbsp;&nbsp;&nbsp;&nbsp; d) .insert() <br>\n",
    " &nbsp;&nbsp;&nbsp;&nbsp; e) .pop() <br>\n",
    " &nbsp;&nbsp;&nbsp;&nbsp; f) .remove() <br>\n",
    " &nbsp;&nbsp;&nbsp;&nbsp; g) del() <br>\n",
    " &nbsp;&nbsp;&nbsp;&nbsp; h) Concatenating Two Lists <br>\n",
    " &nbsp;&nbsp;&nbsp;&nbsp; i) Lists Within Lists <br>\n",
    " &nbsp;&nbsp;&nbsp;&nbsp; j) Looping Through Lists <br>"
   ]
  },
  {
   "cell_type": "markdown",
   "metadata": {},
   "source": [
    "### Int & Float Assignments"
   ]
  },
  {
   "cell_type": "markdown",
   "metadata": {},
   "source": [
    "##### Assigning int"
   ]
  },
  {
   "cell_type": "code",
   "execution_count": 7,
   "metadata": {},
   "outputs": [
    {
     "data": {
      "text/plain": [
       "56"
      ]
     },
     "execution_count": 7,
     "metadata": {},
     "output_type": "execute_result"
    }
   ],
   "source": [
    "number = 56\n",
    "\n",
    "number\n",
    "\n"
   ]
  },
  {
   "cell_type": "markdown",
   "metadata": {},
   "source": [
    "##### Assinging float"
   ]
  },
  {
   "cell_type": "code",
   "execution_count": 10,
   "metadata": {},
   "outputs": [
    {
     "data": {
      "text/plain": [
       "5.75"
      ]
     },
     "execution_count": 10,
     "metadata": {},
     "output_type": "execute_result"
    }
   ],
   "source": [
    "numfloat = 5.75\n",
    "numfloat"
   ]
  },
  {
   "cell_type": "markdown",
   "metadata": {},
   "source": [
    "#### Performing Calculations on ints and floats"
   ]
  },
  {
   "cell_type": "markdown",
   "metadata": {},
   "source": [
    "##### Addition"
   ]
  },
  {
   "cell_type": "code",
   "execution_count": 19,
   "metadata": {},
   "outputs": [
    {
     "name": "stdout",
     "output_type": "stream",
     "text": [
      "11\n",
      "104\n",
      "108\n"
     ]
    }
   ],
   "source": [
    "num = 1\n",
    "num1 = 5 \n",
    "num2 = 10\n",
    "num3 = 53\n",
    "\n",
    "addresult = num + num2\n",
    "print(addresult)\n",
    "randonumber = 6 + 98\n",
    "print(randonumber)\n",
    "\n",
    "\n",
    "#there is a shorthand version!!!\n",
    "#  +=\n",
    "\n",
    "randonumber += 4\n",
    "#This is actually saying randonumber = randonumber + 4\n",
    "print(randonumber)"
   ]
  },
  {
   "cell_type": "markdown",
   "metadata": {},
   "source": [
    "##### Subtraction"
   ]
  },
  {
   "cell_type": "code",
   "execution_count": 20,
   "metadata": {},
   "outputs": [
    {
     "name": "stdout",
     "output_type": "stream",
     "text": [
      "48\n"
     ]
    }
   ],
   "source": [
    "diff_result = num3 - num1\n",
    "print(diff_result)\n",
    "\n",
    "#shorthand -=\n"
   ]
  },
  {
   "cell_type": "markdown",
   "metadata": {},
   "source": [
    "##### Multiplication"
   ]
  },
  {
   "cell_type": "code",
   "execution_count": 21,
   "metadata": {},
   "outputs": [
    {
     "name": "stdout",
     "output_type": "stream",
     "text": [
      "530\n"
     ]
    }
   ],
   "source": [
    "productex = num2 * num3\n",
    "print(productex)"
   ]
  },
  {
   "cell_type": "code",
   "execution_count": null,
   "metadata": {},
   "outputs": [],
   "source": [
    "#shorthand *="
   ]
  },
  {
   "cell_type": "markdown",
   "metadata": {},
   "source": [
    "##### Division"
   ]
  },
  {
   "cell_type": "code",
   "execution_count": 22,
   "metadata": {},
   "outputs": [
    {
     "name": "stdout",
     "output_type": "stream",
     "text": [
      "5.3\n"
     ]
    }
   ],
   "source": [
    "simplediv = num3 / num2\n",
    "print(simplediv)"
   ]
  },
  {
   "cell_type": "code",
   "execution_count": null,
   "metadata": {},
   "outputs": [],
   "source": [
    "#shorthand /=\n",
    "#result is always a float!"
   ]
  },
  {
   "cell_type": "markdown",
   "metadata": {},
   "source": [
    "##### Floor Division"
   ]
  },
  {
   "cell_type": "code",
   "execution_count": 23,
   "metadata": {},
   "outputs": [
    {
     "name": "stdout",
     "output_type": "stream",
     "text": [
      "3\n"
     ]
    }
   ],
   "source": [
    "floorex = 13 // 4\n",
    "print(floorex)"
   ]
  },
  {
   "cell_type": "code",
   "execution_count": null,
   "metadata": {},
   "outputs": [],
   "source": [
    "#shorthand //="
   ]
  },
  {
   "cell_type": "markdown",
   "metadata": {},
   "source": [
    "##### Modulo"
   ]
  },
  {
   "cell_type": "code",
   "execution_count": 24,
   "metadata": {},
   "outputs": [
    {
     "name": "stdout",
     "output_type": "stream",
     "text": [
      "1\n"
     ]
    }
   ],
   "source": [
    "remainex = 13 % 4\n",
    "print(remainex)"
   ]
  },
  {
   "cell_type": "code",
   "execution_count": null,
   "metadata": {},
   "outputs": [],
   "source": [
    "# shorthand %="
   ]
  },
  {
   "cell_type": "markdown",
   "metadata": {},
   "source": [
    "##### Exponential"
   ]
  },
  {
   "cell_type": "code",
   "execution_count": 25,
   "metadata": {},
   "outputs": [
    {
     "name": "stdout",
     "output_type": "stream",
     "text": [
      "25\n"
     ]
    }
   ],
   "source": [
    "exponentex = 5 ** 2\n",
    "print(exponentex)"
   ]
  },
  {
   "cell_type": "code",
   "execution_count": null,
   "metadata": {},
   "outputs": [],
   "source": [
    "#shorthand **="
   ]
  },
  {
   "cell_type": "markdown",
   "metadata": {},
   "source": [
    "### String Input-Output"
   ]
  },
  {
   "cell_type": "markdown",
   "metadata": {},
   "source": [
    "##### String Assignment"
   ]
  },
  {
   "cell_type": "code",
   "execution_count": 27,
   "metadata": {},
   "outputs": [
    {
     "name": "stdout",
     "output_type": "stream",
     "text": [
      "This is Brendan's string!\n",
      " It does change!\n"
     ]
    }
   ],
   "source": [
    "stringy = 'This is Brendan\\'s string!'\n",
    "stringy2 = \"So is this one!\"\n",
    "print(stringy)\n",
    "stringy = ' It does change!'\n",
    "print(stringy)\n"
   ]
  },
  {
   "cell_type": "markdown",
   "metadata": {},
   "source": [
    "##### print() <br>\n",
    "<p>Don't forget about end=' '</p>"
   ]
  },
  {
   "cell_type": "code",
   "execution_count": 30,
   "metadata": {},
   "outputs": [],
   "source": [
    "fname = 'Brandt'\n",
    "lname = 'Carlson'\n",
    "name = 'Brandt Carlson'"
   ]
  },
  {
   "cell_type": "code",
   "execution_count": 32,
   "metadata": {},
   "outputs": [
    {
     "name": "stdout",
     "output_type": "stream",
     "text": [
      "This is my name:\n",
      " _BrandtCarlson"
     ]
    }
   ],
   "source": [
    "print('This is my name:')\n",
    "print(' ', fname, end=lname, sep='_')"
   ]
  },
  {
   "cell_type": "markdown",
   "metadata": {},
   "source": [
    "##### String Concatenation"
   ]
  },
  {
   "cell_type": "code",
   "execution_count": 35,
   "metadata": {},
   "outputs": [
    {
     "name": "stdout",
     "output_type": "stream",
     "text": [
      "Brandt Carlson\n",
      "Brandt Carlson!\n"
     ]
    }
   ],
   "source": [
    "full_name = fname + ' ' + lname\n",
    "print(full_name)\n",
    "\n",
    "full_name += '!'\n",
    "print(full_name)"
   ]
  },
  {
   "cell_type": "markdown",
   "metadata": {},
   "source": [
    "##### Type Conversion"
   ]
  },
  {
   "cell_type": "code",
   "execution_count": 36,
   "metadata": {},
   "outputs": [
    {
     "name": "stdout",
     "output_type": "stream",
     "text": [
      "59 <class 'str'>\n",
      "59 <class 'int'>\n"
     ]
    }
   ],
   "source": [
    "another_num = '59'\n",
    "\n",
    "print(another_num, type(another_num))\n",
    "changed_num = int(another_num)\n",
    "\n",
    "print(changed_num, type(changed_num))"
   ]
  },
  {
   "cell_type": "markdown",
   "metadata": {},
   "source": [
    "### Note on type/value equality vs assignment"
   ]
  },
  {
   "cell_type": "code",
   "execution_count": null,
   "metadata": {},
   "outputs": [],
   "source": [
    "#   =   vs   ==\n",
    "#   =  is ASSIGNING  => a variable, a value, etc.\n",
    "#   ==  is CHECKING EQUALITY (both type and value)"
   ]
  },
  {
   "cell_type": "markdown",
   "metadata": {},
   "source": [
    "##### input()"
   ]
  },
  {
   "cell_type": "code",
   "execution_count": 42,
   "metadata": {},
   "outputs": [
    {
     "name": "stdout",
     "output_type": "stream",
     "text": [
      "what's your name?Brandt\n",
      "How old are you?50\n",
      "Brandt <class 'str'> \n",
      " <class 'str'> 50\n",
      "100050\n"
     ]
    }
   ],
   "source": [
    "# input always returns a string.   ALWAYS\n",
    "name = input(\"what's your name?\")\n",
    "age = input(\"How old are you?\")\n",
    "\n",
    "print(name, type(name),'\\n',type(age), age)\n",
    "new_age = int(age) + 100000\n",
    "print(new_age)\n"
   ]
  },
  {
   "cell_type": "markdown",
   "metadata": {},
   "source": [
    "##### format()"
   ]
  },
  {
   "cell_type": "code",
   "execution_count": 43,
   "metadata": {},
   "outputs": [
    {
     "name": "stdout",
     "output_type": "stream",
     "text": [
      "You're 50 Brandt, getting old!\n"
     ]
    }
   ],
   "source": [
    "res_string = \"You're {} {}, getting old!\".format(age, name)\n",
    "print(res_string)"
   ]
  },
  {
   "cell_type": "code",
   "execution_count": 44,
   "metadata": {},
   "outputs": [
    {
     "name": "stdout",
     "output_type": "stream",
     "text": [
      "Brandt, man you're now 50 years old!\n"
     ]
    }
   ],
   "source": [
    "# BUT the f-string is sooo much better!\n",
    "print(f\"{name}, man you're now {age} years old!\")"
   ]
  },
  {
   "cell_type": "markdown",
   "metadata": {},
   "source": []
  },
  {
   "cell_type": "code",
   "execution_count": null,
   "metadata": {},
   "outputs": [],
   "source": []
  },
  {
   "cell_type": "markdown",
   "metadata": {},
   "source": [
    "# In-Class Exercise 1 <br>\n",
    "<p>Create a format statement that asks for color, year, make, model and prints out the results</p>"
   ]
  },
  {
   "cell_type": "code",
   "execution_count": 45,
   "metadata": {},
   "outputs": [
    {
     "name": "stdout",
     "output_type": "stream",
     "text": [
      "Color?Blue\n",
      "Make?Nissan\n",
      "model?Maxima\n",
      "Year?2000\n",
      "Oh sweet, this is a 2000 Nissan Maxima in the very rare color of Blue!\n"
     ]
    }
   ],
   "source": [
    "color = input('Color?')\n",
    "make = input('Make?')\n",
    "model = input('model?')\n",
    "year = input('Year?')\n",
    "\n",
    "print(f\"Oh sweet, this is a {year} {make} {model} in the very rare color of {color}!\")"
   ]
  },
  {
   "cell_type": "markdown",
   "metadata": {},
   "source": [
    "### If Statements"
   ]
  },
  {
   "cell_type": "code",
   "execution_count": 48,
   "metadata": {},
   "outputs": [
    {
     "name": "stdout",
     "output_type": "stream",
     "text": [
      "not equal. . . \n",
      "The first one is bigger!\n"
     ]
    }
   ],
   "source": [
    "# Available operators: Greater(>), Less(<),Equal(==)\n",
    "# Greater or Equal(>=), Less or Equal (<=)\n",
    "\n",
    "# Truth Tree:\n",
    "# T && F = F\n",
    "# T && T = T \n",
    "# T || F = T  \n",
    "# F || T = T\n",
    "# F || F = F\n",
    "\n",
    "\n",
    "num6 = 80\n",
    "num7 = 14\n",
    "\n",
    "\n",
    "if num6 == num7:\n",
    "    print('Yep, they are equal!')\n",
    "else:\n",
    "    print('not equal. . . ')\n",
    "    \n",
    "if num6 >= num7:\n",
    "    print('The first one is bigger!')\n",
    "else:\n",
    "    print('NOPE, 2nd num is greater')"
   ]
  },
  {
   "cell_type": "markdown",
   "metadata": {},
   "source": [
    "##### 'is' keyword"
   ]
  },
  {
   "cell_type": "code",
   "execution_count": 54,
   "metadata": {
    "scrolled": true
   },
   "outputs": [
    {
     "name": "stdout",
     "output_type": "stream",
     "text": [
      "<class 'float'> <class 'int'>\n",
      "\n",
      "\n",
      "nope it is not\n"
     ]
    }
   ],
   "source": [
    "# we use this when we're checking the same/similar object, NOT the same value\n",
    "num8 = 13.0\n",
    "num9 = 13\n",
    "print(type(num8), type(num9))\n",
    "print('\\n')\n",
    "\n",
    "if num8 is num9:\n",
    "    print('YEP it is!')\n",
    "else:\n",
    "    print('nope it is not')"
   ]
  },
  {
   "cell_type": "markdown",
   "metadata": {},
   "source": [
    "##### 'in' keyword"
   ]
  },
  {
   "cell_type": "code",
   "execution_count": 56,
   "metadata": {},
   "outputs": [
    {
     "name": "stdout",
     "output_type": "stream",
     "text": [
      "a is in this name!\n"
     ]
    }
   ],
   "source": [
    "# Membership check!\n",
    "\n",
    "awake = 'Connor A'\n",
    "if 'A' in awake:\n",
    "    print('a is in this name!')"
   ]
  },
  {
   "cell_type": "markdown",
   "metadata": {},
   "source": [
    "##### 'not in' keyword'"
   ]
  },
  {
   "cell_type": "code",
   "execution_count": 57,
   "metadata": {},
   "outputs": [
    {
     "name": "stdout",
     "output_type": "stream",
     "text": [
      "NOT in this name\n"
     ]
    }
   ],
   "source": [
    "if 'a' not in awake:\n",
    "    print('NOT in this name')"
   ]
  },
  {
   "cell_type": "markdown",
   "metadata": {},
   "source": [
    "# In-Class Exercise 2 <br>\n",
    "<p>Ask user for input, check to see if the letter 'p' is in the input</p>"
   ]
  },
  {
   "cell_type": "code",
   "execution_count": null,
   "metadata": {},
   "outputs": [],
   "source": []
  },
  {
   "cell_type": "markdown",
   "metadata": {},
   "source": [
    "## Using 'and'/'or' with If Statements"
   ]
  },
  {
   "cell_type": "code",
   "execution_count": 61,
   "metadata": {},
   "outputs": [],
   "source": [
    "num10 = 25\n",
    "num11 = 35\n",
    "num12 = 50\n",
    "num13 = 35"
   ]
  },
  {
   "cell_type": "code",
   "execution_count": 65,
   "metadata": {},
   "outputs": [
    {
     "name": "stdout",
     "output_type": "stream",
     "text": [
      "True and True\n",
      "True || False\n"
     ]
    }
   ],
   "source": [
    "if num11 == num13 and num12 - num10 == 25:\n",
    "    print('True and True')\n",
    "    \n",
    "if num11 > num10 or num10 > num13:\n",
    "    print('True || False')"
   ]
  },
  {
   "cell_type": "markdown",
   "metadata": {},
   "source": [
    "### Elif Statements"
   ]
  },
  {
   "cell_type": "code",
   "execution_count": 67,
   "metadata": {},
   "outputs": [
    {
     "name": "stdout",
     "output_type": "stream",
     "text": [
      "We've hit our elif conditional block!\n"
     ]
    }
   ],
   "source": [
    "first_name = 'Max'\n",
    "\n",
    "if first_name == 'Marla':\n",
    "    print('The name is Marla!')\n",
    "elif first_name == 'Max':\n",
    "    print(\"We've hit our elif conditional block!\")\n",
    "else:\n",
    "    print('none of the previous conditionals hit!')\n"
   ]
  },
  {
   "cell_type": "markdown",
   "metadata": {},
   "source": [
    "### Else Statements"
   ]
  },
  {
   "cell_type": "code",
   "execution_count": null,
   "metadata": {},
   "outputs": [],
   "source": [
    "# see above"
   ]
  },
  {
   "cell_type": "markdown",
   "metadata": {},
   "source": [
    "### For Loops"
   ]
  },
  {
   "cell_type": "code",
   "execution_count": 70,
   "metadata": {},
   "outputs": [
    {
     "name": "stdout",
     "output_type": "stream",
     "text": [
      "B\n",
      "r\n",
      "a\n",
      "n\n",
      "d\n",
      "t\n",
      " \n",
      "C\n",
      "a\n",
      "r\n",
      "l\n",
      "s\n",
      "o\n",
      "n\n",
      "0 B\n",
      "1 r\n",
      "2 a\n",
      "3 n\n",
      "4 d\n",
      "5 t\n",
      "6  \n",
      "7 C\n",
      "8 a\n",
      "9 r\n",
      "10 l\n",
      "11 s\n",
      "12 o\n",
      "13 n\n"
     ]
    }
   ],
   "source": [
    "# for <variable> in <iterable>:\n",
    "\n",
    "my_name = \"Brandt Carlson\"\n",
    "\n",
    "for x in my_name:\n",
    "    print(x)\n",
    "    \n",
    "# for i in range(len(my_name)):\n",
    "#     print(i, my_name[i])\n"
   ]
  },
  {
   "cell_type": "markdown",
   "metadata": {},
   "source": [
    "##### Using 'in' keyword"
   ]
  },
  {
   "cell_type": "code",
   "execution_count": null,
   "metadata": {},
   "outputs": [],
   "source": [
    "# see above"
   ]
  },
  {
   "cell_type": "markdown",
   "metadata": {},
   "source": [
    "##### Continue Statement"
   ]
  },
  {
   "cell_type": "code",
   "execution_count": null,
   "metadata": {},
   "outputs": [],
   "source": [
    "# will continue to next iteration"
   ]
  },
  {
   "cell_type": "code",
   "execution_count": 72,
   "metadata": {},
   "outputs": [
    {
     "name": "stdout",
     "output_type": "stream",
     "text": [
      "0\n",
      "1\n",
      "3\n",
      "4\n"
     ]
    }
   ],
   "source": [
    "for x in range(5):\n",
    "    if x == 2:\n",
    "        continue\n",
    "    print(x)"
   ]
  },
  {
   "cell_type": "markdown",
   "metadata": {},
   "source": [
    "##### Break Statement"
   ]
  },
  {
   "cell_type": "code",
   "execution_count": null,
   "metadata": {},
   "outputs": [],
   "source": [
    "# will break out of current loop"
   ]
  },
  {
   "cell_type": "code",
   "execution_count": 73,
   "metadata": {},
   "outputs": [
    {
     "name": "stdout",
     "output_type": "stream",
     "text": [
      "0\n",
      "1\n"
     ]
    }
   ],
   "source": [
    "for x in range(5):\n",
    "    if x == 2:\n",
    "        break\n",
    "    print(x)"
   ]
  },
  {
   "cell_type": "markdown",
   "metadata": {},
   "source": [
    "##### Pass Statement"
   ]
  },
  {
   "cell_type": "code",
   "execution_count": null,
   "metadata": {},
   "outputs": [],
   "source": [
    "# mostly used as a placeholder, and will continue on same iteration"
   ]
  },
  {
   "cell_type": "code",
   "execution_count": 75,
   "metadata": {},
   "outputs": [],
   "source": [
    "for letter in my_name:\n",
    "    pass  #TODO need to build out this function later"
   ]
  },
  {
   "cell_type": "markdown",
   "metadata": {},
   "source": [
    "##### Double For Loops"
   ]
  },
  {
   "cell_type": "code",
   "execution_count": 77,
   "metadata": {},
   "outputs": [
    {
     "name": "stdout",
     "output_type": "stream",
     "text": [
      "i-0 \ty-0\n",
      "i-0 \ty-1\n",
      "i-0 \ty-2\n",
      "i-0 \ty-3\n",
      "i-0 \ty-4\n",
      "i-1 \ty-0\n",
      "i-1 \ty-1\n",
      "i-1 \ty-2\n",
      "i-1 \ty-3\n",
      "i-1 \ty-4\n",
      "i-2 \ty-0\n",
      "i-2 \ty-1\n",
      "i-2 \ty-2\n",
      "i-2 \ty-3\n",
      "i-2 \ty-4\n",
      "i-3 \ty-0\n",
      "i-3 \ty-1\n",
      "i-3 \ty-2\n",
      "i-3 \ty-3\n",
      "i-3 \ty-4\n",
      "i-4 \ty-0\n",
      "i-4 \ty-1\n",
      "i-4 \ty-2\n",
      "i-4 \ty-3\n",
      "i-4 \ty-4\n"
     ]
    }
   ],
   "source": [
    "for i in range(5):\n",
    "    for y in range(5):\n",
    "        print(f\"i-{i} \\ty-{y}\")"
   ]
  },
  {
   "cell_type": "markdown",
   "metadata": {},
   "source": [
    "### While Loops"
   ]
  },
  {
   "cell_type": "code",
   "execution_count": 83,
   "metadata": {
    "scrolled": false
   },
   "outputs": [
    {
     "name": "stdout",
     "output_type": "stream",
     "text": [
      "0\n",
      "1\n",
      "2\n",
      "3\n",
      "4\n",
      "5\n"
     ]
    }
   ],
   "source": [
    "# while keyword + condition statement:\n",
    "\n",
    "counter = 0\n",
    "while counter < 6:\n",
    "    print(counter)\n",
    "    counter += 1"
   ]
  },
  {
   "cell_type": "markdown",
   "metadata": {},
   "source": [
    "##### Looping 'While True'"
   ]
  },
  {
   "cell_type": "code",
   "execution_count": 84,
   "metadata": {},
   "outputs": [
    {
     "name": "stdout",
     "output_type": "stream",
     "text": [
      "7\n",
      "8\n",
      "9\n",
      "10\n",
      "11\n"
     ]
    }
   ],
   "source": [
    "while True:\n",
    "    counter +=1\n",
    "    print(counter)\n",
    "    if counter >= 11:\n",
    "        break"
   ]
  },
  {
   "cell_type": "markdown",
   "metadata": {},
   "source": [
    "##### While & For Loops Used Together"
   ]
  },
  {
   "cell_type": "code",
   "execution_count": 87,
   "metadata": {},
   "outputs": [
    {
     "name": "stdout",
     "output_type": "stream",
     "text": [
      "While loop #-0\n",
      "For Loop #-0\n",
      "For Loop #-1\n",
      "For Loop #-2\n",
      "While loop #-1\n",
      "For Loop #-0\n",
      "For Loop #-1\n",
      "For Loop #-2\n"
     ]
    }
   ],
   "source": [
    "count = 0\n",
    "\n",
    "while count <2:\n",
    "    print(f'While loop #-{count}')\n",
    "    for x in range(3):\n",
    "        print(f\"For Loop #-{x}\")\n",
    "    count += 1"
   ]
  },
  {
   "cell_type": "markdown",
   "metadata": {},
   "source": [
    "### Built-In Functions"
   ]
  },
  {
   "cell_type": "markdown",
   "metadata": {},
   "source": [
    "##### range()"
   ]
  },
  {
   "cell_type": "code",
   "execution_count": 89,
   "metadata": {},
   "outputs": [
    {
     "name": "stdout",
     "output_type": "stream",
     "text": [
      "0\n",
      "1\n",
      "2\n",
      "3\n",
      "4\n",
      "\n",
      "\n"
     ]
    }
   ],
   "source": [
    "# start, stop, step\n",
    "for x in range(0, 5, 1):\n",
    "    print(x)\n",
    "print('\\n')\n",
    "# for x in range(0, 5):\n",
    "#     print(x)\n",
    "# print('\\n')\n",
    "# for x in range(5):\n",
    "#     print(x)\n",
    "# print('\\n')"
   ]
  },
  {
   "cell_type": "code",
   "execution_count": 91,
   "metadata": {},
   "outputs": [
    {
     "name": "stdout",
     "output_type": "stream",
     "text": [
      "<class 'range'>\n"
     ]
    }
   ],
   "source": [
    "print(type(range(5)))"
   ]
  },
  {
   "cell_type": "markdown",
   "metadata": {},
   "source": [
    "##### len()"
   ]
  },
  {
   "cell_type": "code",
   "execution_count": 92,
   "metadata": {},
   "outputs": [
    {
     "data": {
      "text/plain": [
       "14"
      ]
     },
     "execution_count": 92,
     "metadata": {},
     "output_type": "execute_result"
    }
   ],
   "source": [
    "len(my_name)\n"
   ]
  },
  {
   "cell_type": "markdown",
   "metadata": {},
   "source": [
    "##### help()"
   ]
  },
  {
   "cell_type": "code",
   "execution_count": 97,
   "metadata": {},
   "outputs": [
    {
     "name": "stdout",
     "output_type": "stream",
     "text": [
      "Help on built-in function len in module builtins:\n",
      "\n",
      "len(obj, /)\n",
      "    Return the number of items in a container.\n",
      "\n"
     ]
    }
   ],
   "source": [
    "# USE THIS!!!\n",
    "help(len)"
   ]
  },
  {
   "cell_type": "markdown",
   "metadata": {},
   "source": [
    "##### isinstance()"
   ]
  },
  {
   "cell_type": "code",
   "execution_count": 100,
   "metadata": {},
   "outputs": [
    {
     "name": "stdout",
     "output_type": "stream",
     "text": [
      "True\n",
      "False\n"
     ]
    }
   ],
   "source": [
    "# check a variable to find out if it is what you think it is\n",
    "\n",
    "print(isinstance('56', str)) #returns boolean -True here\n",
    "\n",
    "print(isinstance(56, str)) # False, int"
   ]
  },
  {
   "cell_type": "markdown",
   "metadata": {},
   "source": [
    "##### abs()"
   ]
  },
  {
   "cell_type": "code",
   "execution_count": 101,
   "metadata": {},
   "outputs": [
    {
     "data": {
      "text/plain": [
       "5"
      ]
     },
     "execution_count": 101,
     "metadata": {},
     "output_type": "execute_result"
    }
   ],
   "source": [
    "abs(-5)\n",
    "\n",
    "#Math terminology |-5|  => 5"
   ]
  },
  {
   "cell_type": "markdown",
   "metadata": {},
   "source": [
    "### Try and Except"
   ]
  },
  {
   "cell_type": "code",
   "execution_count": 105,
   "metadata": {},
   "outputs": [
    {
     "name": "stdout",
     "output_type": "stream",
     "text": [
      "Guess a number11\n",
      "You guessed it!!! 11\n"
     ]
    }
   ],
   "source": [
    "# use this for error handling when you think you may encounter a bug!\n",
    "# Basically to keep from breaking/crashing\n",
    "\n",
    "try:\n",
    "    a_test = 11\n",
    "    input_num = int(input('Guess a number'))\n",
    "    if input_num == a_test:\n",
    "        print(f'You guessed it!!! {a_test}')\n",
    "except:\n",
    "    print(\"that did not work!  Why don't you try a number?\")"
   ]
  },
  {
   "cell_type": "markdown",
   "metadata": {},
   "source": [
    "### Lists"
   ]
  },
  {
   "cell_type": "markdown",
   "metadata": {},
   "source": [
    "##### Declaring Lists"
   ]
  },
  {
   "cell_type": "code",
   "execution_count": 109,
   "metadata": {},
   "outputs": [
    {
     "name": "stdout",
     "output_type": "stream",
     "text": [
      "[1, 2, 3, 4] <class 'list'>\n"
     ]
    }
   ],
   "source": [
    "my_list = [ 1, 2, 3, 4]\n",
    "print(my_list, type(my_list))\n",
    "\n"
   ]
  },
  {
   "cell_type": "code",
   "execution_count": 124,
   "metadata": {},
   "outputs": [],
   "source": [
    "names = ['Brendan', 'Jason', 'Kaytlin', 'David']"
   ]
  },
  {
   "cell_type": "markdown",
   "metadata": {},
   "source": [
    "##### Indexing a List"
   ]
  },
  {
   "cell_type": "code",
   "execution_count": 116,
   "metadata": {},
   "outputs": [
    {
     "name": "stdout",
     "output_type": "stream",
     "text": [
      "Kaytlin\n",
      "KAYTLIN\n"
     ]
    }
   ],
   "source": [
    "# We use brackets [] to access indices\n",
    "print(names[2])\n",
    "print(names[2].upper())"
   ]
  },
  {
   "cell_type": "markdown",
   "metadata": {},
   "source": [
    "##### .append()"
   ]
  },
  {
   "cell_type": "code",
   "execution_count": 125,
   "metadata": {},
   "outputs": [
    {
     "name": "stdout",
     "output_type": "stream",
     "text": [
      "['Brendan', 'Jason', 'Kaytlin', 'David', 'Connor']\n"
     ]
    }
   ],
   "source": [
    "names.append('Connor')\n",
    "print(names)"
   ]
  },
  {
   "cell_type": "markdown",
   "metadata": {},
   "source": [
    "##### .insert()"
   ]
  },
  {
   "cell_type": "code",
   "execution_count": 126,
   "metadata": {},
   "outputs": [
    {
     "name": "stdout",
     "output_type": "stream",
     "text": [
      "['Brandt', 'Brendan', 'Jason', 'Kaytlin', 'David', 'Connor']\n"
     ]
    }
   ],
   "source": [
    "names.insert(0, 'Brandt')\n",
    "print(names)"
   ]
  },
  {
   "cell_type": "markdown",
   "metadata": {},
   "source": [
    "##### .pop()"
   ]
  },
  {
   "cell_type": "code",
   "execution_count": 127,
   "metadata": {},
   "outputs": [
    {
     "name": "stdout",
     "output_type": "stream",
     "text": [
      "['Brandt', 'Brendan', 'Kaytlin', 'David', 'Connor']\n",
      "['Brandt', 'Brendan', 'Kaytlin', 'David', 'Connor', 'Jason']\n"
     ]
    }
   ],
   "source": [
    "best = names.pop(2)\n",
    "print(names)\n",
    "names.append(best)\n",
    "print(names)"
   ]
  },
  {
   "cell_type": "markdown",
   "metadata": {},
   "source": [
    "\n",
    "##### .remove()"
   ]
  },
  {
   "cell_type": "code",
   "execution_count": 128,
   "metadata": {},
   "outputs": [
    {
     "name": "stdout",
     "output_type": "stream",
     "text": [
      "['Brandt', 'Brendan', 'Kaytlin', 'David', 'Connor', 'Jason', 'Jason', 'Jason', 'Jason', 'Jason']\n"
     ]
    }
   ],
   "source": [
    "names.append(best)\n",
    "names.append(best)\n",
    "names.append(best)\n",
    "names.append(best)\n",
    "print(names)"
   ]
  },
  {
   "cell_type": "code",
   "execution_count": 130,
   "metadata": {},
   "outputs": [
    {
     "name": "stdout",
     "output_type": "stream",
     "text": [
      "['Brandt', 'Brendan', 'Kaytlin', 'David', 'Connor', 'Jason', 'Jason', 'Jason']\n",
      "['Brandt', 'Brendan', 'Kaytlin', 'David', 'Connor']\n"
     ]
    }
   ],
   "source": [
    "# Removes the value NOT the index\n",
    "# removes teh first instance of that value it finds\n",
    "names.remove('Jason')\n",
    "print(names)\n",
    "\n",
    "while \"Jason\" in names:\n",
    "    names.remove('Jason')\n",
    "print(names)"
   ]
  },
  {
   "cell_type": "markdown",
   "metadata": {},
   "source": [
    "##### del()"
   ]
  },
  {
   "cell_type": "code",
   "execution_count": 131,
   "metadata": {},
   "outputs": [
    {
     "name": "stdout",
     "output_type": "stream",
     "text": [
      "['Brandt', 'Brendan', 'Kaytlin', 'Connor']\n"
     ]
    }
   ],
   "source": [
    "# works on the index, NOT the value\n",
    "del(names[3])\n",
    "print(names)"
   ]
  },
  {
   "cell_type": "markdown",
   "metadata": {},
   "source": [
    "##### Concatenating Two Lists"
   ]
  },
  {
   "cell_type": "code",
   "execution_count": 133,
   "metadata": {},
   "outputs": [
    {
     "name": "stdout",
     "output_type": "stream",
     "text": [
      "[4, 5, 6, 1, 2, 3]\n"
     ]
    }
   ],
   "source": [
    "# will append 2 lists together, not sorting them\n",
    "\n",
    "l1 = [1, 2, 3]\n",
    "l2 = [4, 5, 6]\n",
    "\n",
    "l3 = l2 + l1\n",
    "print(l3)"
   ]
  },
  {
   "cell_type": "markdown",
   "metadata": {},
   "source": [
    "##### Lists Within Lists"
   ]
  },
  {
   "cell_type": "code",
   "execution_count": 138,
   "metadata": {},
   "outputs": [
    {
     "name": "stdout",
     "output_type": "stream",
     "text": [
      "Aften\n",
      "['Yousif', 'Robin', 'Edward']\n",
      "Yousif\n"
     ]
    }
   ],
   "source": [
    "# we can put all kinds of stuff in lists!  Including lists. . . this can be nested many layers deep!\n",
    "\n",
    "next_names = ['Brendan', 'Rachel', 'Aften', ['Yousif', 'Robin', 'Edward']]\n",
    "print(next_names[2]) #Aften\n",
    "print(next_names[3]) # that whole list\n",
    "print(next_names[3][0]) # Yousif"
   ]
  },
  {
   "cell_type": "markdown",
   "metadata": {},
   "source": [
    "##### Looping Through Lists"
   ]
  },
  {
   "cell_type": "code",
   "execution_count": 140,
   "metadata": {},
   "outputs": [
    {
     "name": "stdout",
     "output_type": "stream",
     "text": [
      "Brandt\n",
      "Brendan\n",
      "Kaytlin\n",
      "Connor\n",
      "0 Brandt\n",
      "1 Brendan\n",
      "2 Kaytlin\n",
      "3 Connor\n"
     ]
    }
   ],
   "source": [
    "# Same as above!  Well, mostly. . . \n",
    "# Lists are iterable!\n",
    "\n",
    "#simple for loop\n",
    "for name in names:\n",
    "    print(name)\n",
    "    \n",
    "#index loop\n",
    "for i in range(len(names)):\n",
    "    print(i, names[i])\n"
   ]
  },
  {
   "cell_type": "markdown",
   "metadata": {},
   "source": [
    "## Exercise #1 <br>\n",
    "<p>Cube Number Test... Print out all cubed numbers up to the total value 1000. Meaning that if the cubed number is over 1000 break the loop.</p>"
   ]
  },
  {
   "cell_type": "code",
   "execution_count": 10,
   "metadata": {},
   "outputs": [
    {
     "name": "stdout",
     "output_type": "stream",
     "text": [
      "1\n",
      "8\n",
      "27\n",
      "64\n",
      "125\n",
      "216\n",
      "343\n",
      "512\n",
      "729\n",
      "1000\n"
     ]
    }
   ],
   "source": [
    "number = 1\n",
    "cubed_number = 0\n",
    "while cubed_number < 1000:\n",
    "    cubed_number = number * number * number\n",
    "    print(cubed_number)\n",
    "    number += 1"
   ]
  },
  {
   "cell_type": "markdown",
   "metadata": {},
   "source": [
    "## Exercise #2 <br>\n",
    "<p>Get first prime numbers up to 100</p>"
   ]
  },
  {
   "cell_type": "code",
   "execution_count": 1,
   "metadata": {},
   "outputs": [
    {
     "name": "stdout",
     "output_type": "stream",
     "text": [
      "2\n",
      "3\n",
      "5\n",
      "7\n",
      "11\n",
      "13\n",
      "17\n",
      "19\n",
      "23\n",
      "29\n",
      "31\n",
      "37\n",
      "41\n",
      "43\n",
      "47\n",
      "53\n",
      "59\n",
      "61\n",
      "67\n",
      "71\n",
      "73\n",
      "79\n",
      "83\n",
      "89\n",
      "97\n"
     ]
    }
   ],
   "source": [
    "# HINT::\n",
    "# An else after an if runs if the if didn’t\n",
    "# An else after a for runs if the for didn’t break\n",
    "\n",
    "num = 2\n",
    "while num < 101:\n",
    "    if num == 2 or num == 3 or num == 5 or num == 7:\n",
    "        print(num)\n",
    "        num +=1\n",
    "    elif num % 2 == 0:\n",
    "        num += 1\n",
    "    elif num % 3 == 0:\n",
    "        num += 1\n",
    "    elif num % 5 == 0:\n",
    "        num += 1\n",
    "    elif num % 7 == 0:\n",
    "        num += 1\n",
    "    else:\n",
    "        print(num)\n",
    "        num +=1\n",
    "\n"
   ]
  },
  {
   "cell_type": "markdown",
   "metadata": {},
   "source": [
    "# Exercise 3 <br>\n",
    "<p>Take in a users input for their age, if they are younger than 18 print kids, if they're 18 to 65 print adults, else print seniors</p>"
   ]
  },
  {
   "cell_type": "code",
   "execution_count": 11,
   "metadata": {},
   "outputs": [
    {
     "name": "stdout",
     "output_type": "stream",
     "text": [
      "What is your age:26\n",
      "You are an adult.\n"
     ]
    }
   ],
   "source": [
    "age = input(\"What is your age:\")\n",
    "if int(age) < 18:\n",
    "    print(\"You are a kid.\")\n",
    "elif int(age) > 65:\n",
    "    print(\"You are a senior.\")\n",
    "else:\n",
    "    print(\"You are an adult.\")"
   ]
  }
 ],
 "metadata": {
  "kernelspec": {
   "display_name": "Python 3 (ipykernel)",
   "language": "python",
   "name": "python3"
  },
  "language_info": {
   "codemirror_mode": {
    "name": "ipython",
    "version": 3
   },
   "file_extension": ".py",
   "mimetype": "text/x-python",
   "name": "python",
   "nbconvert_exporter": "python",
   "pygments_lexer": "ipython3",
   "version": "3.10.9"
  }
 },
 "nbformat": 4,
 "nbformat_minor": 2
}
